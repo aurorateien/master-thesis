{
 "cells": [
  {
   "cell_type": "markdown",
   "metadata": {},
   "source": [
    "## Distortion correction with Au SAED data \n",
    "Adapted from Tina Bergh\n"
   ]
  },
  {
   "cell_type": "code",
   "execution_count": 84,
   "metadata": {},
   "outputs": [],
   "source": [
    "# Activate interactive plotting\n",
    "%matplotlib qt "
   ]
  },
  {
   "cell_type": "code",
   "execution_count": 3,
   "metadata": {},
   "outputs": [
    {
     "name": "stderr",
     "output_type": "stream",
     "text": [
      "WARNING:silx.opencl.common:Unable to import pyOpenCl. Please install it from: https://pypi.org/project/pyopencl\n"
     ]
    }
   ],
   "source": [
    "# Import packages\n",
    "import numpy as np\n",
    "import hyperspy.api as hs # v1.7.1\n",
    "import matplotlib.pyplot as plt \n",
    "import skimage as ski\n",
    "import pyxem as pxm  # v0.14.2 dependent on Pint v0.19.1\n",
    "\n",
    "from pyxem.generators.calibration_generator import CalibrationGenerator\n",
    "from scipy.signal import argrelextrema\n",
    "\n",
    "from hyperspy.misc.utils import stack as stack_method\n",
    "from numpy import log10\n",
    "\n",
    "from scipy.spatial import distance_matrix"
   ]
  },
  {
   "cell_type": "code",
   "execution_count": 165,
   "metadata": {},
   "outputs": [
    {
     "name": "stdout",
     "output_type": "stream",
     "text": [
      "This mib file appears to be TEM data. The stack is returned with no reshaping.\n",
      "[########################################] | 100% Completed | 109.63 ms\n"
     ]
    },
    {
     "name": "stderr",
     "output_type": "stream",
     "text": [
      "WARNING:hyperspy.io:`signal_type='TEM'` not understood. See `hs.print_known_signal_types()` for a list of installed signal types or https://github.com/hyperspy/hyperspy-extensions-list for the list of all hyperspy extensions providing signals.\n"
     ]
    }
   ],
   "source": [
    "########################\n",
    "# Measurements on SAED patterns:\n",
    "########################\n",
    "\n",
    "file = 'AuX_80kV_200cm'\n",
    "folder = 'D:/Aurora/Master data/DataFebruar/240215_AuX_80kV/' \n",
    "\n",
    "# Intial loading of .mib file\n",
    "file_ending = '.mib'\n",
    "saed = pxm.load_mib(folder + file + file_ending)\n",
    "saed.compute()\n",
    "saed = pxm.signals.ElectronDiffraction2D(saed).inav[0]\n",
    "saed.save(folder+file+'_s.hdf5')\n"
   ]
  },
  {
   "cell_type": "code",
   "execution_count": 166,
   "metadata": {},
   "outputs": [],
   "source": [
    "# Set center of direct beam \n",
    "scale = 1\n",
    "saed.set_diffraction_calibration(scale)\n",
    "saed.plot(cmap='magma_r', norm='log')\n",
    "\n",
    "roi = hs.roi.CircleROI(cx=0, cy=0, r=18, r_inner=0)\n",
    "roi.add_widget(saed)\n",
    "\n",
    "saed.save(folder+file+'_center.hdf5')"
   ]
  },
  {
   "cell_type": "code",
   "execution_count": 167,
   "metadata": {},
   "outputs": [],
   "source": [
    "\n",
    "cal = CalibrationGenerator(diffraction_pattern=saed)\n",
    "\n",
    "# Plot saed diffraction pattern\n",
    "saed.plot(norm=\"log\") \n",
    "# Adjust x1, y1, x2, y2 according to detector used\n",
    "line = hs.roi.Line2DROI(x1=-256, y1=-256, x2=256, y2=256, linewidth=5) \n",
    "line.add_widget(saed)\n",
    "\n",
    "# Obtain line trace (here set to go through center of beam)\n",
    "trace = line(saed)\n",
    "trace = trace.as_signal1D(0)\n",
    "trace.plot()"
   ]
  },
  {
   "cell_type": "code",
   "execution_count": 168,
   "metadata": {},
   "outputs": [
    {
     "name": "stdout",
     "output_type": "stream",
     "text": [
      "4 mask_length\n"
     ]
    }
   ],
   "source": [
    "#############################################\n",
    "# Mask out direct beam \n",
    "radius = 32 \n",
    "ssum_m = saed.copy()\n",
    "dbm = ssum_m.get_direct_beam_mask(radius=radius)\n",
    "ssum_m.data = ssum_m.data * ~dbm.data\n",
    "ssum_m.plot(norm=\"log\")"
   ]
  },
  {
   "cell_type": "code",
   "execution_count": 175,
   "metadata": {},
   "outputs": [
    {
     "name": "stderr",
     "output_type": "stream",
     "text": [
      "c:\\Users\\Windows User\\anaconda3\\envs\\masterENV\\lib\\site-packages\\diffsims\\utils\\ring_pattern_utils.py:29: RuntimeWarning: invalid value encountered in sqrt\n",
      "  return np.sqrt((xp - xcp) ** 2 + asym * (yp - ycp) ** 2)\n"
     ]
    },
    {
     "name": "stdout",
     "output_type": "stream",
     "text": [
      "[[1.02096 0.02094 0.     ]\n",
      " [0.02094 1.02091 0.     ]\n",
      " [0.      0.      1.     ]]\n",
      "[  476.24018  3262.71123    23.87949 42098.28419     1.0855      0.78603]\n"
     ]
    }
   ],
   "source": [
    "# Calculate distortion \n",
    "#   Mask radius, spread and asymmetry might have to be edited\n",
    "#   Larger cameralength required higher mask_radius\n",
    "spread =  2 \n",
    "distortion = cal.get_elliptical_distortion(mask_radius=140, \n",
    "                                           scale=100, amplitude=1000,\n",
    "                                           asymmetry=1.1, spread=spread)  \n",
    "np.set_printoptions(precision=5, suppress=True)\n",
    "print(cal.affine_matrix)\n",
    "print(cal.ring_params)\n"
   ]
  },
  {
   "cell_type": "code",
   "execution_count": 170,
   "metadata": {},
   "outputs": [
    {
     "name": "stdout",
     "output_type": "stream",
     "text": [
      "[########################################] | 100% Completed | 121.76 ms\n",
      "[########################################] | 100% Completed | 265.10 ms\n",
      "[########################################] | 100% Completed | 107.04 ms\n",
      "[########################################] | 100% Completed | 125.39 ms\n",
      "scale=0.00327\n"
     ]
    },
    {
     "name": "stderr",
     "output_type": "stream",
     "text": [
      "c:\\Users\\Windows User\\anaconda3\\envs\\masterENV\\lib\\site-packages\\diffsims\\utils\\ring_pattern_utils.py:102: RuntimeWarning: divide by zero encountered in power\n",
      "  v.append(direct_beam_amplitude * Ri ** -2)  # np.exp((-1*(Ri)*(Ri))/d0)\n"
     ]
    },
    {
     "name": "stdout",
     "output_type": "stream",
     "text": [
      "[########################################] | 100% Completed | 119.16 ms\n",
      "[########################################] | 100% Completed | 119.48 ms\n",
      "[########################################] | 100% Completed | 108.07 ms\n"
     ]
    }
   ],
   "source": [
    "# Find scale and plot residuals\n",
    "mask_length = radius # tror denne må være lik radiusen\n",
    "linewidth = 5\n",
    "scale = cal.get_diffraction_calibration(mask_length=mask_length, linewidth=linewidth) \n",
    "print('scale=' + '{:.5f}'.format(scale))\n",
    "\n",
    "residuals = cal.get_distortion_residuals(mask_radius=radius, spread=spread)\n",
    "residuals.plot(cmap='RdBu', vmax=0.04) \n"
   ]
  },
  {
   "cell_type": "code",
   "execution_count": 171,
   "metadata": {},
   "outputs": [
    {
     "name": "stdout",
     "output_type": "stream",
     "text": [
      "[########################################] | 100% Completed | 156.00 ms\n",
      "[########################################] | 100% Completed | 109.14 ms\n"
     ]
    }
   ],
   "source": [
    "# Plot corrected diffraction pattern\n",
    "cal.plot_corrected_diffraction_pattern(norm=\"log\")\n"
   ]
  },
  {
   "cell_type": "code",
   "execution_count": 172,
   "metadata": {},
   "outputs": [],
   "source": [
    "# Save the distortion matrix\n",
    "np.savetxt(folder + file + '_dist.txt', distortion)\n"
   ]
  },
  {
   "cell_type": "code",
   "execution_count": 173,
   "metadata": {},
   "outputs": [
    {
     "name": "stdout",
     "output_type": "stream",
     "text": [
      "[########################################] | 100% Completed | 106.90 ms\n",
      "[########################################] | 100% Completed | 120.70 ms\n"
     ]
    }
   ],
   "source": [
    "# MANUAL calibration of Au rings\n",
    "\n",
    "# Inverse d spacings for gold\n",
    "ids = [0.424522257, 0.490196078, 0.693241942, 0.812898233, 0.849460916, 0.980872977]\n",
    "\n",
    "size = ssum_m.data.shape[0]\n",
    "dpegs = stack_method([saed, saed, saed, saed])\n",
    "dpegs = pxm.signals.ElectronDiffraction2D(dpegs.data.reshape((2, 2, size, size)))\n",
    "\n",
    "dpegs = dpegs.apply_affine_transformation(\n",
    "    cal.affine_matrix, preserve_range=True, inplace=False)\n",
    "dpegm = dpegs.inav[0, 0]\n",
    "\n",
    "dpegm.set_diffraction_calibration(1)\n",
    "dpegm.plot(norm='log')\n"
   ]
  },
  {
   "cell_type": "code",
   "execution_count": 174,
   "metadata": {},
   "outputs": [
    {
     "data": {
      "text/plain": [
       "<hyperspy.drawing._widgets.circle.CircleWidget at 0x1fb6984a170>"
      ]
     },
     "execution_count": 174,
     "metadata": {},
     "output_type": "execute_result"
    }
   ],
   "source": [
    "\n",
    "# Radius of Au rings to be plotted with the Au-pattern. Observe if the rings overlap, if not, adjust the radius.\n",
    "# 30cm: 18.5, 21.5, 31.5, 37.5\n",
    "# 40cm: 23.5, 27.5, 39.5, 46.5\n",
    "# 50cm: 31.5, 34.5, 51.5, 58.5\n",
    "# 60cm: 37.5, 43.5, 62.5, 73.5\n",
    "# 80cm: 51.5, 58.5, 84.5, 99.5\n",
    "# 100cm: 59.5, 69.5, 98.5, 115.5\n",
    "# 120cm: 71.5, 84.5, 119.5, 139.5\n",
    "# 150cm:86.5, 100.5, 141.5, 165.5\n",
    "# 200 cm: 106.5, 123.5, 175.5, 205.5\n",
    "\n",
    "roi111 = hs.roi.CircleROI(cx=0, cy=0, r=106.5)\n",
    "roi111.add_widget(dpegm)\n",
    "roi002 = hs.roi.CircleROI(cx=0, cy=0, r=123.5)\n",
    "roi002.add_widget(dpegm)\n",
    "roi022 = hs.roi.CircleROI(cx=0, cy=0, r=175.5)\n",
    "roi022.add_widget(dpegm)\n",
    "roi113 = hs.roi.CircleROI(cx=0, cy=0, r=205.5)\n",
    "roi113.add_widget(dpegm)\n"
   ]
  },
  {
   "cell_type": "code",
   "execution_count": 163,
   "metadata": {},
   "outputs": [
    {
     "name": "stdout",
     "output_type": "stream",
     "text": [
      "[0.00491 0.00488 0.0049  0.00491] 1.3221264179707376e-05 0.00489908820311879\n",
      "0.00489908820311879\n"
     ]
    }
   ],
   "source": [
    "# Calculate mean of manually calculated scales\n",
    "scales = np.array([ids[0] / roi111.r, ids[1] / roi002.r, ids[2] / roi022.r, ids[3] / roi113.r])\n",
    "print(scales, np.std(scales), np.mean(scales))\n",
    "calibration = np.mean(scales)\n",
    "print(calibration)"
   ]
  },
  {
   "cell_type": "code",
   "execution_count": 164,
   "metadata": {},
   "outputs": [],
   "source": [
    "\n",
    "# Save calibration scale and figure\n",
    "np.savetxt(folder + file + '_calibration_manual.txt', [calibration])\n",
    "\n",
    "plt.savefig(folder+file + '_cal_rings.png')\n",
    "\n"
   ]
  },
  {
   "cell_type": "code",
   "execution_count": 176,
   "metadata": {},
   "outputs": [],
   "source": [
    "\n",
    "# Save png figure of shift\n",
    "diff = dpegs.inav[0, 0].data - ssum_m.data\n",
    "if np.any(diff < 0.0):\n",
    "    diff = diff + abs(np.min(diff.data))\n",
    "\n",
    "diff = pxm.signals.ElectronDiffraction2D(diff)\n",
    "diff_m = diff.copy()\n",
    "dbm_ = diff_m.get_direct_beam_mask(radius=15)\n",
    "diff_m.data = diff_m.data * ~dbm_.data\n",
    "diff_m.plot(norm='log', scalebar=False, colorbar=False, axes_ticks=False)\n",
    "plt.savefig(folder + file + '_diff.png')\n",
    "# Make tif\n",
    "diff_img = diff_m.copy()\n",
    "diff_img.data = diff_img.data / diff_img.data.max()\n",
    "diff_img.data = ski.img_as_uint(diff_img.data)\n",
    "diff_img.save(folder + file + '_diff.tif')\n",
    "shift = diff_m.data[diff_m.data > 0].min()\n",
    "# Make log tif\n",
    "diff_log = diff_m.copy()\n",
    "diff_log.data = log10(diff_m.data + shift) - log10(shift)\n",
    "diff_log.data = diff_log.data / diff_log.data.max()\n",
    "diff_log.data = ski.img_as_uint(diff_log.data)\n",
    "diff_log.save(folder + file + '_diff_log.tif') "
   ]
  }
 ],
 "metadata": {
  "kernelspec": {
   "display_name": "base",
   "language": "python",
   "name": "python3"
  },
  "language_info": {
   "codemirror_mode": {
    "name": "ipython",
    "version": 3
   },
   "file_extension": ".py",
   "mimetype": "text/x-python",
   "name": "python",
   "nbconvert_exporter": "python",
   "pygments_lexer": "ipython3",
   "version": "3.10.0"
  }
 },
 "nbformat": 4,
 "nbformat_minor": 2
}
